{
  "nbformat": 4,
  "nbformat_minor": 0,
  "metadata": {
    "colab": {
      "provenance": [],
      "authorship_tag": "ABX9TyM+ObYWSWyGm3a9c1PGZeqI",
      "include_colab_link": true
    },
    "kernelspec": {
      "name": "python3",
      "display_name": "Python 3"
    },
    "language_info": {
      "name": "python"
    }
  },
  "cells": [
    {
      "cell_type": "markdown",
      "metadata": {
        "id": "view-in-github",
        "colab_type": "text"
      },
      "source": [
        "<a href=\"https://colab.research.google.com/github/Siddhanttambe2/Statistics-Advance---1/blob/main/Statistics_Advance_1.ipynb\" target=\"_parent\"><img src=\"https://colab.research.google.com/assets/colab-badge.svg\" alt=\"Open In Colab\"/></a>"
      ]
    },
    {
      "cell_type": "markdown",
      "source": [
        " Q1) Define the z-statistic and explain its relationship to the standard normal distribution. How is the\n",
        "z-statistic used in hypothesis testing"
      ],
      "metadata": {
        "id": "EmMz2lsTsQO4"
      }
    },
    {
      "cell_type": "markdown",
      "source": [
        "The z-statistic (or z-score) measures how many standard deviations a data point or sample mean is from the population mean. It is calculated using the formula:\n",
        "\n",
        "z = (sample mean - population mean)/population standard deviation.\n",
        "​\n",
        "\n",
        "The z-statistic relates to the standard normal distribution, which has a mean of 0 and a standard deviation of 1. The z-score standardizes a value, allowing comparison to this distribution. In hypothesis testing, the z-statistic helps determine whether to reject the null hypothesis by comparing the sample mean to the population mean. A large z-score suggests the sample is significantly different from the population mean, leading to a potential rejection of the null hypothesis"
      ],
      "metadata": {
        "id": "xlnyXq_Es1t3"
      }
    },
    {
      "cell_type": "markdown",
      "source": [
        "Q2) What is a p-value, and how is it used in hypothesis testing? What does it mean if the p-value is very small (e.g., 0.01)?"
      ],
      "metadata": {
        "id": "U_vPz2u_t4zw"
      }
    },
    {
      "cell_type": "markdown",
      "source": [
        "The p-value is the probability of observing data as extreme as the sample, assuming the null hypothesis is true. It is used to determine whether to reject the null hypothesis in hypothesis testing. A small p-value (e.g., 0.01) suggests that the observed data are highly unlikely under the null hypothesis, leading to its rejection. If the p-value is less than the significance level, typically 0.05, the null hypothesis is rejected in favor of the alternative hypothesis."
      ],
      "metadata": {
        "id": "5cwdPMMqt-_e"
      }
    },
    {
      "cell_type": "markdown",
      "source": [
        "Q3) Compare and contrast the binomial and Bernoulli distributions."
      ],
      "metadata": {
        "id": "UtID0oYxuK_C"
      }
    },
    {
      "cell_type": "markdown",
      "source": [
        "Bernoulli distribution: Models a single trial with two outcomes: success (1) or failure (0), with a probability\n",
        "p of success. It has only one trial.\n",
        "\n",
        "Binomial distribution: Extends the Bernoulli distribution to multiple trials, representing the number of successes in\n",
        "n independent trials, each with probability\n",
        "p of success. It counts the number of successes across several trials."
      ],
      "metadata": {
        "id": "-2YiWlv0uQKE"
      }
    },
    {
      "cell_type": "markdown",
      "source": [
        "Q4)Under what conditions is the binomial distribution used, and how does it relate to the Bernoulli distribution?"
      ],
      "metadata": {
        "id": "GZEw_qYXucps"
      }
    },
    {
      "cell_type": "markdown",
      "source": [
        "The binomial distribution is used when there are:\n",
        "\n",
        "A fixed number of independent trials (n),\n",
        "\n",
        "Two possible outcomes (success or failure),\n",
        "\n",
        "The same probability of success (p) in each trial.\n",
        "\n",
        "The binomial distribution is related to the Bernoulli distribution in that it represents the number of successes in\n",
        "n Bernoulli trials. Each trial follows a Bernoulli distribution, and the binomial distribution aggregates the outcomes over multiple trials."
      ],
      "metadata": {
        "id": "_xgc3-n9uiim"
      }
    },
    {
      "cell_type": "markdown",
      "source": [
        "Q5) What are the key properties of the Poisson distribution, and when is it appropriate to use this distribution?"
      ],
      "metadata": {
        "id": "3Fb78jIuu4Lr"
      }
    },
    {
      "cell_type": "markdown",
      "source": [
        "The Poisson distribution is characterized by:\n",
        "\n",
        "A mean\n",
        "λ, representing the average rate of occurrence,\n",
        "Non-negative integer outcomes,\n",
        "Describes the probability of a given number of events happening in a fixed interval of time or space.\n",
        "\n",
        "It is appropriate to use when events occur independently and randomly over time, and the probability of an event happening in a very small time interval is proportional to the length of the interval.\n",
        "\n"
      ],
      "metadata": {
        "id": "IIp8rM79vOYV"
      }
    },
    {
      "cell_type": "markdown",
      "source": [
        "Q6)  Define the terms \"probability distribution\" and \"probability density function\" (PDF). How does a PDF differ from a probability mass function (PMF)?"
      ],
      "metadata": {
        "id": "GgibUnHkveGH"
      }
    },
    {
      "cell_type": "markdown",
      "source": [
        "A probability distribution describes how probabilities are distributed over the values of a random variable.\n",
        "A probability density function (PDF) is used for continuous random variables, giving the relative likelihood that the variable takes on a particular value.\n",
        "The difference between PDF and PMF is that a PMF applies to discrete variables, giving the probability that the variable takes on a specific value. A PDF, on the other hand, gives probabilities for ranges of continuous values."
      ],
      "metadata": {
        "id": "ed2nrmKtvgF8"
      }
    },
    {
      "cell_type": "markdown",
      "source": [
        "\n",
        "Q7) Explain the Central Limit Theorem (CLT) with example."
      ],
      "metadata": {
        "id": "XHSlhalKwULN"
      }
    },
    {
      "cell_type": "markdown",
      "source": [
        "The Central Limit Theorem (CLT) states that the distribution of the sum of a large number of independent and identically distributed random variables approaches a normal distribution, regardless of the underlying distribution of the individual random variables, so If you take a large number of random samples from any population (no matter its shape), the distribution of the sample means will be approximately normal.\n",
        "\n",
        "Example:\n",
        "\n",
        "Suppose you have a population of people with heights that are not normally distributed. Let's say the distribution is skewed to the right, meaning there are a few very tall people, but most people are of average height.\n",
        "\n",
        "Now, if you take many random samples of people from this population and calculate the mean height of each sample, the distribution of these sample means will be approximately normal, even though the original population distribution was not normal. This is the Central Limit Theorem in action."
      ],
      "metadata": {
        "id": "0lxneHfwv5ul"
      }
    },
    {
      "cell_type": "markdown",
      "source": [
        "Q8) Compare z-scores and t-scores. When should you use a z-score, and when should a t-score be applied instead?\n",
        "\n"
      ],
      "metadata": {
        "id": "4TqewXVOxWvU"
      }
    },
    {
      "cell_type": "markdown",
      "source": [
        "A z-score is used when the population standard deviation is known and the sample size is large (n>30).\n",
        "\n",
        "A t-score is used when the population standard deviation is unknown and the sample size is small (n<30).\n",
        "\n",
        "The t-distribution accounts for the additional uncertainty in small samples by having heavier tails than the normal distribution."
      ],
      "metadata": {
        "id": "Ctlg1cexxcoS"
      }
    },
    {
      "cell_type": "markdown",
      "source": [
        "Q9) Given a sample mean of 105, a population mean of 100, a standard deviation of 15, and a sample size of 25, calculate the z-score and p-value. Based on a significance level of 0.05, do you reject or fail to reject the null hypothesis?"
      ],
      "metadata": {
        "id": "SLZXDnEVxSej"
      }
    },
    {
      "cell_type": "markdown",
      "source": [
        " z-score formula\n",
        "z = (sample mean - population mean) / (standard deviation / sqrt(sample size))\n",
        "Substituting the given values:\n",
        "\n",
        "z = (105 - 100) / (15 / sqrt(25)) = 1.67\n",
        "\n",
        "so to find p-value, we consider area to the right of z = 1.67 in a standard normal distribution table. This area is approximately 0.0475.\n",
        "\n",
        "Since the p-value (0.0475) is less than the significance level (0.05), we reject the null hypothesis."
      ],
      "metadata": {
        "id": "KTuPb_wFw5RE"
      }
    },
    {
      "cell_type": "markdown",
      "source": [
        "Q10) Simulate a binomial distribution with 10 trials and a probability of success of 0.6 using Python. Generate 1,000 samples and plot the distribution. What is the expected mean and variance?"
      ],
      "metadata": {
        "id": "YJyduhefx1HA"
      }
    },
    {
      "cell_type": "code",
      "source": [
        "import numpy as np\n",
        "import matplotlib.pyplot as plt\n",
        "\n",
        "n = 10\n",
        "p = 0.6\n",
        "samples = np.random.binomial(n, p, 1000)\n",
        "\n",
        "plt.hist(samples, bins=range(n+2), density=True, align='left', rwidth=0.8)\n",
        "plt.title('Binomial Distribution with 10 Trials and p=0.6')\n",
        "plt.xlabel('Number of Successes')\n",
        "plt.ylabel('Probability')\n",
        "plt.show()\n",
        "\n",
        "mean = np.mean(samples)\n",
        "variance = np.var(samples)\n",
        "print(\"Mean:\", mean)\n",
        "print(\"Variance:\", variance)\n"
      ],
      "metadata": {
        "colab": {
          "base_uri": "https://localhost:8080/",
          "height": 507
        },
        "id": "hhppbUupw2tS",
        "outputId": "92af6bc6-3485-4ded-9c42-5939ca6cb1c1"
      },
      "execution_count": 2,
      "outputs": [
        {
          "output_type": "display_data",
          "data": {
            "text/plain": [
              "<Figure size 640x480 with 1 Axes>"
            ],
            "image/png": "[encoded data removed]"
          },
          "metadata": {}
        },
        {
          "output_type": "stream",
          "name": "stdout",
          "text": [
            "Mean: 5.956\n",
            "Variance: 2.4120640000000004\n"
          ]
        }
      ]
    },
    {
      "cell_type": "code",
      "source": [],
      "metadata": {
        "id": "7ruH1bjdx4Lt"
      },
      "execution_count": null,
      "outputs": []
    }
  ]
}